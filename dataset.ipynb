{
 "cells": [
  {
   "cell_type": "code",
   "execution_count": 1,
   "id": "e3cc5137",
   "metadata": {
    "scrolled": false
   },
   "outputs": [
    {
     "name": "stdout",
     "output_type": "stream",
     "text": [
      "Num GPUs Available:  1\n"
     ]
    },
    {
     "data": {
      "text/plain": [
       "[PhysicalDevice(name='/physical_device:GPU:0', device_type='GPU')]"
      ]
     },
     "execution_count": 1,
     "metadata": {},
     "output_type": "execute_result"
    }
   ],
   "source": [
    "import pandas as pd\n",
    "from logging import root\n",
    "from PIL import Image\n",
    "import numpy as np\n",
    "import sys\n",
    "import os\n",
    "import csv\n",
    "import matplotlib.pyplot as plt\n",
    "import tensorflow as tf \n",
    "from keras import layers \n",
    "from keras.callbacks import *\n",
    "from keras.models import Sequential\n",
    "from keras.layers import *\n",
    "from keras.preprocessing.image import ImageDataGenerator\n",
    "import logging, os\n",
    "\n",
    "print(\"Num GPUs Available: \", len(tf.config.experimental.list_physical_devices('GPU')))\n",
    "tf.config.list_physical_devices('GPU')"
   ]
  },
  {
   "cell_type": "code",
   "execution_count": 5,
   "id": "22a6c6b7",
   "metadata": {},
   "outputs": [
    {
     "name": "stdout",
     "output_type": "stream",
     "text": [
      "Found 2637 files belonging to 26 classes.\n",
      "Using 2110 files for training.\n",
      "Found 2637 files belonging to 26 classes.\n",
      "Using 527 files for validation.\n"
     ]
    }
   ],
   "source": [
    "\n",
    "image_size = (64, 64)\n",
    "batch_size = 64\n",
    "\n",
    "train_ds = tf.keras.preprocessing.image_dataset_from_directory(\n",
    "    \"/Users/ajones/Documents/asl/ASL_database/ASL_database_train/\",\n",
    "    validation_split=0.2,\n",
    "    subset=\"training\",\n",
    "    seed=1337,\n",
    "    image_size=image_size,\n",
    "    batch_size=batch_size,\n",
    ")\n",
    "val_ds = tf.keras.preprocessing.image_dataset_from_directory(\n",
    "    \"/Users/ajones/Documents/asl/ASL_database/ASL_database_train/\",\n",
    "    validation_split=0.2,\n",
    "    subset=\"validation\",\n",
    "    seed=1337,\n",
    "    image_size=image_size,\n",
    "    batch_size=batch_size,\n",
    ")"
   ]
  },
  {
   "cell_type": "code",
   "execution_count": 9,
   "id": "c20959a2",
   "metadata": {},
   "outputs": [
    {
     "name": "stdout",
     "output_type": "stream",
     "text": [
      "Model: \"sequential_2\"\n",
      "_________________________________________________________________\n",
      " Layer (type)                Output Shape              Param #   \n",
      "=================================================================\n",
      " conv2d_8 (Conv2D)           (None, 62, 62, 64)        1792      \n",
      "                                                                 \n",
      " batch_normalization_12 (Bat  (None, 62, 62, 64)       256       \n",
      " chNormalization)                                                \n",
      "                                                                 \n",
      " conv2d_9 (Conv2D)           (None, 60, 60, 64)        36928     \n",
      "                                                                 \n",
      " batch_normalization_13 (Bat  (None, 60, 60, 64)       256       \n",
      " chNormalization)                                                \n",
      "                                                                 \n",
      " max_pooling2d_4 (MaxPooling  (None, 30, 30, 64)       0         \n",
      " 2D)                                                             \n",
      "                                                                 \n",
      " dropout_2 (Dropout)         (None, 30, 30, 64)        0         \n",
      "                                                                 \n",
      " conv2d_10 (Conv2D)          (None, 28, 28, 128)       73856     \n",
      "                                                                 \n",
      " batch_normalization_14 (Bat  (None, 28, 28, 128)      512       \n",
      " chNormalization)                                                \n",
      "                                                                 \n",
      " conv2d_11 (Conv2D)          (None, 26, 26, 128)       147584    \n",
      "                                                                 \n",
      " batch_normalization_15 (Bat  (None, 26, 26, 128)      512       \n",
      " chNormalization)                                                \n",
      "                                                                 \n",
      " max_pooling2d_5 (MaxPooling  (None, 13, 13, 128)      0         \n",
      " 2D)                                                             \n",
      "                                                                 \n",
      " flatten_2 (Flatten)         (None, 21632)             0         \n",
      "                                                                 \n",
      " batch_normalization_16 (Bat  (None, 21632)            86528     \n",
      " chNormalization)                                                \n",
      "                                                                 \n",
      " dense_4 (Dense)             (None, 256)               5538048   \n",
      "                                                                 \n",
      " batch_normalization_17 (Bat  (None, 256)              1024      \n",
      " chNormalization)                                                \n",
      "                                                                 \n",
      " dense_5 (Dense)             (None, 26)                6682      \n",
      "                                                                 \n",
      "=================================================================\n",
      "Total params: 5,893,978\n",
      "Trainable params: 5,849,434\n",
      "Non-trainable params: 44,544\n",
      "_________________________________________________________________\n"
     ]
    }
   ],
   "source": [
    "model=Sequential([])\n",
    "\n",
    "model.add(Conv2D(64,(3,3),activation=\"relu\",input_shape=(64,64,3)))\n",
    "model.add(BatchNormalization())\n",
    "model.add(Conv2D(64,(3,3),activation=\"relu\",input_shape=(64,64,3)))\n",
    "model.add(BatchNormalization())\n",
    "model.add(MaxPooling2D(2,2))\n",
    "model.add(Dropout(.1))\n",
    "\n",
    "model.add(Conv2D(128,(3,3),activation=\"relu\"))\n",
    "model.add(BatchNormalization())\n",
    "model.add(Conv2D(128,(3,3),activation=\"relu\"))\n",
    "model.add(BatchNormalization())\n",
    "model.add(MaxPooling2D(2,2))\n",
    "\n",
    "model.add(Flatten())\n",
    "model.add(BatchNormalization())\n",
    "model.add(Dense(256,activation=\"relu\"))\n",
    "model.add(BatchNormalization())\n",
    "model.add(Dense(26,activation=\"softmax\"))\n",
    "\n",
    "model.summary()"
   ]
  },
  {
   "cell_type": "code",
   "execution_count": null,
   "id": "1bd31138",
   "metadata": {},
   "outputs": [
    {
     "name": "stdout",
     "output_type": "stream",
     "text": [
      "Epoch 1/20\n",
      "33/33 [==============================] - 10s 239ms/step - loss: 1.2989 - accuracy: 0.6536 - val_loss: 4.2507 - val_accuracy: 0.1328\n",
      "Epoch 2/20\n",
      "33/33 [==============================] - 9s 236ms/step - loss: 0.4027 - accuracy: 0.9062 - val_loss: 1.8938 - val_accuracy: 0.5256\n",
      "Epoch 3/20\n",
      "33/33 [==============================] - 9s 234ms/step - loss: 0.1683 - accuracy: 0.9649 - val_loss: 1.1897 - val_accuracy: 0.6926\n",
      "Epoch 4/20\n",
      "33/33 [==============================] - 9s 228ms/step - loss: 0.1063 - accuracy: 0.9754 - val_loss: 0.9274 - val_accuracy: 0.7571\n",
      "Epoch 5/20\n",
      "33/33 [==============================] - 9s 226ms/step - loss: 0.0643 - accuracy: 0.9839 - val_loss: 0.6848 - val_accuracy: 0.8368\n",
      "Epoch 6/20\n",
      "33/33 [==============================] - 9s 227ms/step - loss: 0.0414 - accuracy: 0.9924 - val_loss: 0.8824 - val_accuracy: 0.7761\n",
      "Epoch 7/20\n",
      "33/33 [==============================] - 9s 227ms/step - loss: 0.0181 - accuracy: 0.9962 - val_loss: 0.7495 - val_accuracy: 0.8102\n",
      "Epoch 8/20\n",
      "33/33 [==============================] - 9s 226ms/step - loss: 0.0108 - accuracy: 0.9976 - val_loss: 0.7114 - val_accuracy: 0.8159\n",
      "Epoch 9/20\n",
      "33/33 [==============================] - 9s 226ms/step - loss: 0.0130 - accuracy: 0.9981 - val_loss: 0.6310 - val_accuracy: 0.8311\n",
      "Epoch 10/20\n",
      "33/33 [==============================] - 9s 228ms/step - loss: 0.0118 - accuracy: 0.9981 - val_loss: 0.6689 - val_accuracy: 0.8235\n",
      "Epoch 11/20\n",
      "33/33 [==============================] - 9s 226ms/step - loss: 0.0133 - accuracy: 0.9986 - val_loss: 0.6441 - val_accuracy: 0.8159\n",
      "Epoch 12/20\n",
      "33/33 [==============================] - 9s 227ms/step - loss: 0.0099 - accuracy: 0.9991 - val_loss: 0.6977 - val_accuracy: 0.8216\n",
      "Epoch 13/20\n",
      "33/33 [==============================] - 9s 226ms/step - loss: 0.0031 - accuracy: 1.0000 - val_loss: 0.6270 - val_accuracy: 0.8368\n",
      "Epoch 14/20\n",
      "33/33 [==============================] - 9s 227ms/step - loss: 0.0019 - accuracy: 1.0000 - val_loss: 0.5634 - val_accuracy: 0.8577\n",
      "Epoch 15/20\n",
      "33/33 [==============================] - 9s 226ms/step - loss: 0.0014 - accuracy: 1.0000 - val_loss: 0.5687 - val_accuracy: 0.8539\n",
      "Epoch 16/20\n",
      "33/33 [==============================] - 9s 226ms/step - loss: 0.0011 - accuracy: 1.0000 - val_loss: 0.5657 - val_accuracy: 0.8615\n",
      "Epoch 17/20\n",
      "33/33 [==============================] - 9s 227ms/step - loss: 9.5896e-04 - accuracy: 1.0000 - val_loss: 0.5651 - val_accuracy: 0.8615\n",
      "Epoch 18/20\n",
      "33/33 [==============================] - 9s 226ms/step - loss: 8.4336e-04 - accuracy: 1.0000 - val_loss: 0.5688 - val_accuracy: 0.8615\n",
      "Epoch 19/20\n",
      "33/33 [==============================] - 9s 227ms/step - loss: 7.7979e-04 - accuracy: 1.0000 - val_loss: 0.5647 - val_accuracy: 0.8634\n",
      "Epoch 20/20\n",
      "21/33 [==================>...........] - ETA: 2s - loss: 6.4718e-04 - accuracy: 1.0000"
     ]
    }
   ],
   "source": [
    "model.compile(optimizer = 'adam', loss = \"sparse_categorical_crossentropy\", metrics = ['accuracy'])\n",
    "hist = model.fit(train_ds, epochs = 20, batch_size = 64, validation_data=val_ds)"
   ]
  },
  {
   "cell_type": "code",
   "execution_count": null,
   "id": "3c3b565a",
   "metadata": {},
   "outputs": [],
   "source": [
    "score = model.evaluate(x = X_test, y = y_test, verbose = 0)\n",
    "print('Accuracy for test images:', round(score[1]*100, 3), '%')\n",
    "score = model.evaluate(x = X_eval, y = y_eval, verbose = 0)\n",
    "print('Accuracy for evaluation images:', round(score[1]*100, 3), '%')"
   ]
  },
  {
   "cell_type": "code",
   "execution_count": null,
   "id": "d616c69a",
   "metadata": {},
   "outputs": [],
   "source": [
    "saved_model_path = \"./asl_model\"\n",
    "model.save(saved_model_path)\n",
    "logging.disable(logging.WARNING)\n",
    "os.environ[\"TF_CPP_MIN_LOG_LEVEL\"] = \"3\"\n",
    "command = f\"python -m tf2onnx.convert --saved-model ./asl_model --opset 18 --output asl.onnx\"\n",
    "os.system(command)"
   ]
  },
  {
   "cell_type": "code",
   "execution_count": null,
   "id": "9da2d3c8",
   "metadata": {},
   "outputs": [],
   "source": []
  }
 ],
 "metadata": {
  "kernelspec": {
   "display_name": "Python 3 (ipykernel)",
   "language": "python",
   "name": "python3"
  },
  "language_info": {
   "codemirror_mode": {
    "name": "ipython",
    "version": 3
   },
   "file_extension": ".py",
   "mimetype": "text/x-python",
   "name": "python",
   "nbconvert_exporter": "python",
   "pygments_lexer": "ipython3",
   "version": "3.10.10"
  }
 },
 "nbformat": 4,
 "nbformat_minor": 5
}
