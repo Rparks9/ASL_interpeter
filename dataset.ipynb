{
 "cells": [
  {
   "cell_type": "code",
   "execution_count": 26,
   "id": "7b0f96d5",
   "metadata": {},
   "outputs": [],
   "source": [
    "import os\n",
    "import pandas as pd"
   ]
  },
  {
   "cell_type": "code",
   "execution_count": null,
   "id": "3f1bc1b3",
   "metadata": {},
   "outputs": [],
   "source": [
    "train_path = '/Users/ajones/Documents/DS340/ASL/ASL_Dataset/Train/'\n",
    "os.chdir(train_path)\n",
    "lists = os.listdir(train_path)\n",
    "labels = []\n",
    "file_lst = []\n",
    "\n",
    "for folder in lists:\n",
    "    files = os.listdir(train_path +\"/\"+folder)\n",
    "    for file in files:\n",
    "      path_file = train_path + \"/\" + folder + \"/\" + file\n",
    "      file_lst.append(path_file)\n",
    "      labels.append(folder)\n",
    "      img_file = Image.open(path_file)\n",
    "      width, height = img_file.size\n",
    "      format = img_file.format\n",
    "      mode = img_file.mode\n",
    "      img_grey  = img_file.convert('L')\n",
    "      value = np.asarray(img_grey.getdata(), dtype=np.float32).reshape((img_grey.size[1], img_grey.size[0]))\n",
    "      value = value.flatten()\n",
    "        \n",
    "      with open(\"train.csv\", 'a') as f:\n",
    "          writer = csv.writer(f)\n",
    "          writer.writerow(value)"
   ]
  },
  {
   "cell_type": "code",
   "execution_count": null,
   "id": "89fd6053",
   "metadata": {},
   "outputs": [],
   "source": [
    "test_path = '/Users/ajones/Documents/DS340/ASL/ASL_Dataset/Test'\n",
    "os.chdir(test_path)\n",
    "lists = os.listdir(test_path)\n",
    "labels = []\n",
    "file_lst = []\n",
    "\n",
    "for folder in lists:\n",
    "    files = os.listdir(test_path +\"/\"+folder)\n",
    "    for file in files:\n",
    "      path_file = test_path + \"/\" + folder + \"/\" + file\n",
    "      file_lst.append(path_file)\n",
    "      labels.append(folder)\n",
    "      img_file = Image.open(path_file)\n",
    "      width, height = img_file.size\n",
    "      format = img_file.format\n",
    "      mode = img_file.mode\n",
    "      img_grey  = img_file.convert('L')\n",
    "      value = np.asarray(img_grey.getdata(), dtype=np.float32).reshape((img_grey.size[1], img_grey.size[0]))\n",
    "      value = value.flatten()\n",
    "        \n",
    "      with open(\"train.csv\", 'a') as f:\n",
    "          writer = csv.writer(f)\n",
    "          writer.writerow(value)"
   ]
  },
  {
   "cell_type": "code",
   "execution_count": null,
   "id": "ebfcefe2",
   "metadata": {},
   "outputs": [],
   "source": []
  }
 ],
 "metadata": {
  "kernelspec": {
   "display_name": "Python 3 (ipykernel)",
   "language": "python",
   "name": "python3"
  },
  "language_info": {
   "codemirror_mode": {
    "name": "ipython",
    "version": 3
   },
   "file_extension": ".py",
   "mimetype": "text/x-python",
   "name": "python",
   "nbconvert_exporter": "python",
   "pygments_lexer": "ipython3",
   "version": "3.10.10"
  }
 },
 "nbformat": 4,
 "nbformat_minor": 5
}
