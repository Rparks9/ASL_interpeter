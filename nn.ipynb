{
 "cells": [
  {
   "cell_type": "code",
   "execution_count": 39,
   "metadata": {},
   "outputs": [],
   "source": [
    "import tensorflow as tf \n",
    "import keras\n",
    "from keras.callbacks import *\n",
    "import numpy as np\n",
    "import pandas as pd\n",
    "import matplotlib\n",
    "from matplotlib import pyplot \n",
    "from keras.models import Sequential\n",
    "from keras.layers import *\n",
    "from keras.preprocessing.image import ImageDataGenerator"
   ]
  },
  {
   "cell_type": "code",
   "execution_count": 40,
   "metadata": {},
   "outputs": [],
   "source": [
    "traindata = pd.read_csv('/Users/ajones/Documents/pytorch-test/sl/sign_mnist_train/sign_mnist_train.csv')"
   ]
  },
  {
   "cell_type": "code",
   "execution_count": 41,
   "metadata": {
    "tags": []
   },
   "outputs": [
    {
     "data": {
      "text/html": [
       "<div>\n",
       "<style scoped>\n",
       "    .dataframe tbody tr th:only-of-type {\n",
       "        vertical-align: middle;\n",
       "    }\n",
       "\n",
       "    .dataframe tbody tr th {\n",
       "        vertical-align: top;\n",
       "    }\n",
       "\n",
       "    .dataframe thead th {\n",
       "        text-align: right;\n",
       "    }\n",
       "</style>\n",
       "<table border=\"1\" class=\"dataframe\">\n",
       "  <thead>\n",
       "    <tr style=\"text-align: right;\">\n",
       "      <th></th>\n",
       "      <th>label</th>\n",
       "      <th>pixel1</th>\n",
       "      <th>pixel2</th>\n",
       "      <th>pixel3</th>\n",
       "      <th>pixel4</th>\n",
       "      <th>pixel5</th>\n",
       "      <th>pixel6</th>\n",
       "      <th>pixel7</th>\n",
       "      <th>pixel8</th>\n",
       "      <th>pixel9</th>\n",
       "      <th>...</th>\n",
       "      <th>pixel775</th>\n",
       "      <th>pixel776</th>\n",
       "      <th>pixel777</th>\n",
       "      <th>pixel778</th>\n",
       "      <th>pixel779</th>\n",
       "      <th>pixel780</th>\n",
       "      <th>pixel781</th>\n",
       "      <th>pixel782</th>\n",
       "      <th>pixel783</th>\n",
       "      <th>pixel784</th>\n",
       "    </tr>\n",
       "  </thead>\n",
       "  <tbody>\n",
       "    <tr>\n",
       "      <th>0</th>\n",
       "      <td>3</td>\n",
       "      <td>107</td>\n",
       "      <td>118</td>\n",
       "      <td>127</td>\n",
       "      <td>134</td>\n",
       "      <td>139</td>\n",
       "      <td>143</td>\n",
       "      <td>146</td>\n",
       "      <td>150</td>\n",
       "      <td>153</td>\n",
       "      <td>...</td>\n",
       "      <td>207</td>\n",
       "      <td>207</td>\n",
       "      <td>207</td>\n",
       "      <td>207</td>\n",
       "      <td>206</td>\n",
       "      <td>206</td>\n",
       "      <td>206</td>\n",
       "      <td>204</td>\n",
       "      <td>203</td>\n",
       "      <td>202</td>\n",
       "    </tr>\n",
       "    <tr>\n",
       "      <th>1</th>\n",
       "      <td>6</td>\n",
       "      <td>155</td>\n",
       "      <td>157</td>\n",
       "      <td>156</td>\n",
       "      <td>156</td>\n",
       "      <td>156</td>\n",
       "      <td>157</td>\n",
       "      <td>156</td>\n",
       "      <td>158</td>\n",
       "      <td>158</td>\n",
       "      <td>...</td>\n",
       "      <td>69</td>\n",
       "      <td>149</td>\n",
       "      <td>128</td>\n",
       "      <td>87</td>\n",
       "      <td>94</td>\n",
       "      <td>163</td>\n",
       "      <td>175</td>\n",
       "      <td>103</td>\n",
       "      <td>135</td>\n",
       "      <td>149</td>\n",
       "    </tr>\n",
       "    <tr>\n",
       "      <th>2</th>\n",
       "      <td>2</td>\n",
       "      <td>187</td>\n",
       "      <td>188</td>\n",
       "      <td>188</td>\n",
       "      <td>187</td>\n",
       "      <td>187</td>\n",
       "      <td>186</td>\n",
       "      <td>187</td>\n",
       "      <td>188</td>\n",
       "      <td>187</td>\n",
       "      <td>...</td>\n",
       "      <td>202</td>\n",
       "      <td>201</td>\n",
       "      <td>200</td>\n",
       "      <td>199</td>\n",
       "      <td>198</td>\n",
       "      <td>199</td>\n",
       "      <td>198</td>\n",
       "      <td>195</td>\n",
       "      <td>194</td>\n",
       "      <td>195</td>\n",
       "    </tr>\n",
       "    <tr>\n",
       "      <th>3</th>\n",
       "      <td>2</td>\n",
       "      <td>211</td>\n",
       "      <td>211</td>\n",
       "      <td>212</td>\n",
       "      <td>212</td>\n",
       "      <td>211</td>\n",
       "      <td>210</td>\n",
       "      <td>211</td>\n",
       "      <td>210</td>\n",
       "      <td>210</td>\n",
       "      <td>...</td>\n",
       "      <td>235</td>\n",
       "      <td>234</td>\n",
       "      <td>233</td>\n",
       "      <td>231</td>\n",
       "      <td>230</td>\n",
       "      <td>226</td>\n",
       "      <td>225</td>\n",
       "      <td>222</td>\n",
       "      <td>229</td>\n",
       "      <td>163</td>\n",
       "    </tr>\n",
       "  </tbody>\n",
       "</table>\n",
       "<p>4 rows × 785 columns</p>\n",
       "</div>"
      ],
      "text/plain": [
       "   label  pixel1  pixel2  pixel3  pixel4  pixel5  pixel6  pixel7  pixel8  \\\n",
       "0      3     107     118     127     134     139     143     146     150   \n",
       "1      6     155     157     156     156     156     157     156     158   \n",
       "2      2     187     188     188     187     187     186     187     188   \n",
       "3      2     211     211     212     212     211     210     211     210   \n",
       "\n",
       "   pixel9  ...  pixel775  pixel776  pixel777  pixel778  pixel779  pixel780  \\\n",
       "0     153  ...       207       207       207       207       206       206   \n",
       "1     158  ...        69       149       128        87        94       163   \n",
       "2     187  ...       202       201       200       199       198       199   \n",
       "3     210  ...       235       234       233       231       230       226   \n",
       "\n",
       "   pixel781  pixel782  pixel783  pixel784  \n",
       "0       206       204       203       202  \n",
       "1       175       103       135       149  \n",
       "2       198       195       194       195  \n",
       "3       225       222       229       163  \n",
       "\n",
       "[4 rows x 785 columns]"
      ]
     },
     "execution_count": 41,
     "metadata": {},
     "output_type": "execute_result"
    }
   ],
   "source": [
    "traindata.head(4)"
   ]
  },
  {
   "cell_type": "code",
   "execution_count": 42,
   "metadata": {},
   "outputs": [
    {
     "data": {
      "text/plain": [
       "(27455, 785)"
      ]
     },
     "execution_count": 42,
     "metadata": {},
     "output_type": "execute_result"
    }
   ],
   "source": [
    "traindata.shape"
   ]
  },
  {
   "cell_type": "code",
   "execution_count": 43,
   "metadata": {},
   "outputs": [],
   "source": [
    "trainlabel=traindata['label'].values\n",
    "traindata.drop('label',inplace=True,axis=1)\n",
    "trainimages = traindata.values\n",
    "##inserted images will be (28,28,1)\n",
    "trainimages = trainimages.reshape(-1,28,28,1)"
   ]
  },
  {
   "cell_type": "code",
   "execution_count": 44,
   "metadata": {},
   "outputs": [],
   "source": [
    "testdata = pd.read_csv('/Users/ajones/Documents/pytorch-test/sl/sign_mnist_test/sign_mnist_test.csv')"
   ]
  },
  {
   "cell_type": "code",
   "execution_count": 45,
   "metadata": {},
   "outputs": [],
   "source": [
    "testlabel=testdata['label'].values\n",
    "testdata.drop('label',inplace=True,axis=1)\n",
    "testimages = testdata.values\n",
    "testimages=testimages.reshape(-1,28,28,1)"
   ]
  },
  {
   "cell_type": "code",
   "execution_count": 46,
   "metadata": {},
   "outputs": [],
   "source": [
    "traingen=ImageDataGenerator(rotation_range=20,\n",
    "                            zoom_range=0.1,\n",
    "                            width_shift_range=0.1,\n",
    "                            height_shift_range=0.1,\n",
    "                            shear_range=0.1,\n",
    "                            horizontal_flip=True,\n",
    "                            rescale=1/255.0,#normalising the data\n",
    "                            validation_split=0.2 #train_val split\n",
    "                            )"
   ]
  },
  {
   "cell_type": "code",
   "execution_count": 47,
   "metadata": {},
   "outputs": [],
   "source": [
    "traindata_generator = traingen.flow(trainimages,trainlabel,subset='training')\n",
    "validationdata_generator = traingen.flow(trainimages,trainlabel,subset='validation')"
   ]
  },
  {
   "cell_type": "code",
   "execution_count": 48,
   "metadata": {},
   "outputs": [],
   "source": [
    "testgen=ImageDataGenerator(rescale=1/255.0)"
   ]
  },
  {
   "cell_type": "code",
   "execution_count": 49,
   "metadata": {},
   "outputs": [],
   "source": [
    "testdata_generator = testgen.flow(testimages,testlabel)"
   ]
  },
  {
   "cell_type": "code",
   "execution_count": 50,
   "metadata": {},
   "outputs": [],
   "source": [
    "model=Sequential([])\n",
    "\n",
    "#convulation layer 1\n",
    "model.add(Conv2D(64,(3,3),activation=\"relu\",input_shape=(28,28,1)))\n",
    "model.add(MaxPooling2D(2,2))\n",
    "\n",
    "#convulation layer 2\n",
    "model.add(Conv2D(128,(3,3),activation=\"relu\"))\n",
    "model.add(MaxPooling2D(2,2))\n",
    "\n",
    "model.add(Flatten())\n",
    "model.add(Dense(256,activation=\"relu\"))\n",
    "model.add(Dense(26,activation=\"softmax\"))"
   ]
  },
  {
   "cell_type": "code",
   "execution_count": 51,
   "metadata": {},
   "outputs": [
    {
     "name": "stdout",
     "output_type": "stream",
     "text": [
      "Model: \"sequential_2\"\n",
      "_________________________________________________________________\n",
      " Layer (type)                Output Shape              Param #   \n",
      "=================================================================\n",
      " conv2d_4 (Conv2D)           (None, 26, 26, 64)        640       \n",
      "                                                                 \n",
      " max_pooling2d_4 (MaxPooling  (None, 13, 13, 64)       0         \n",
      " 2D)                                                             \n",
      "                                                                 \n",
      " conv2d_5 (Conv2D)           (None, 11, 11, 128)       73856     \n",
      "                                                                 \n",
      " max_pooling2d_5 (MaxPooling  (None, 5, 5, 128)        0         \n",
      " 2D)                                                             \n",
      "                                                                 \n",
      " flatten_2 (Flatten)         (None, 3200)              0         \n",
      "                                                                 \n",
      " dense_4 (Dense)             (None, 256)               819456    \n",
      "                                                                 \n",
      " dense_5 (Dense)             (None, 26)                6682      \n",
      "                                                                 \n",
      "=================================================================\n",
      "Total params: 900,634\n",
      "Trainable params: 900,634\n",
      "Non-trainable params: 0\n",
      "_________________________________________________________________\n"
     ]
    }
   ],
   "source": [
    "model.summary()"
   ]
  },
  {
   "cell_type": "code",
   "execution_count": 52,
   "metadata": {},
   "outputs": [],
   "source": [
    "model.compile(loss=\"sparse_categorical_crossentropy\",optimizer='adam',metrics=['accuracy'])"
   ]
  },
  {
   "cell_type": "code",
   "execution_count": 53,
   "metadata": {},
   "outputs": [
    {
     "name": "stdout",
     "output_type": "stream",
     "text": [
      "Epoch 1/50\n",
      "687/687 [==============================] - 10s 14ms/step - loss: 2.1333 - accuracy: 0.3444 - val_loss: 1.3325 - val_accuracy: 0.5722\n",
      "Epoch 2/50\n",
      "687/687 [==============================] - 10s 14ms/step - loss: 0.9909 - accuracy: 0.6733 - val_loss: 0.7867 - val_accuracy: 0.7461\n",
      "Epoch 3/50\n",
      "687/687 [==============================] - 10s 14ms/step - loss: 0.6735 - accuracy: 0.7772 - val_loss: 0.6288 - val_accuracy: 0.7897\n",
      "Epoch 4/50\n",
      "687/687 [==============================] - 11s 15ms/step - loss: 0.5070 - accuracy: 0.8340 - val_loss: 0.5061 - val_accuracy: 0.8283\n",
      "Epoch 5/50\n",
      "687/687 [==============================] - 10s 15ms/step - loss: 0.3923 - accuracy: 0.8698 - val_loss: 0.3603 - val_accuracy: 0.8831\n",
      "Epoch 6/50\n",
      "687/687 [==============================] - 10s 15ms/step - loss: 0.3343 - accuracy: 0.8898 - val_loss: 0.3428 - val_accuracy: 0.8803\n",
      "Epoch 7/50\n",
      "687/687 [==============================] - 10s 15ms/step - loss: 0.2851 - accuracy: 0.9094 - val_loss: 0.2663 - val_accuracy: 0.9171\n",
      "Epoch 8/50\n",
      "687/687 [==============================] - 10s 15ms/step - loss: 0.2355 - accuracy: 0.9231 - val_loss: 0.2223 - val_accuracy: 0.9222\n",
      "Epoch 9/50\n",
      "687/687 [==============================] - 10s 15ms/step - loss: 0.2030 - accuracy: 0.9333 - val_loss: 0.1909 - val_accuracy: 0.9394\n",
      "Epoch 10/50\n",
      "687/687 [==============================] - 10s 15ms/step - loss: 0.1749 - accuracy: 0.9444 - val_loss: 0.1743 - val_accuracy: 0.9425\n",
      "Epoch 11/50\n",
      "687/687 [==============================] - 11s 15ms/step - loss: 0.1632 - accuracy: 0.9468 - val_loss: 0.1465 - val_accuracy: 0.9508\n",
      "Epoch 12/50\n",
      "687/687 [==============================] - 11s 16ms/step - loss: 0.1507 - accuracy: 0.9513 - val_loss: 0.1540 - val_accuracy: 0.9521\n",
      "Epoch 13/50\n",
      "687/687 [==============================] - 11s 15ms/step - loss: 0.1238 - accuracy: 0.9599 - val_loss: 0.1325 - val_accuracy: 0.9559\n",
      "Epoch 14/50\n",
      "687/687 [==============================] - 11s 15ms/step - loss: 0.1228 - accuracy: 0.9605 - val_loss: 0.1228 - val_accuracy: 0.9612\n",
      "Epoch 15/50\n",
      "687/687 [==============================] - 11s 15ms/step - loss: 0.1119 - accuracy: 0.9636 - val_loss: 0.1479 - val_accuracy: 0.9494\n",
      "Epoch 16/50\n",
      "687/687 [==============================] - 11s 16ms/step - loss: 0.1032 - accuracy: 0.9667 - val_loss: 0.0868 - val_accuracy: 0.9703\n",
      "Epoch 17/50\n",
      "687/687 [==============================] - 11s 15ms/step - loss: 0.0996 - accuracy: 0.9673 - val_loss: 0.1185 - val_accuracy: 0.9592\n",
      "Epoch 18/50\n",
      "687/687 [==============================] - 11s 15ms/step - loss: 0.0970 - accuracy: 0.9680 - val_loss: 0.0683 - val_accuracy: 0.9798\n",
      "Epoch 19/50\n",
      "687/687 [==============================] - 11s 16ms/step - loss: 0.0851 - accuracy: 0.9711 - val_loss: 0.0859 - val_accuracy: 0.9698\n",
      "Epoch 20/50\n",
      "687/687 [==============================] - 11s 16ms/step - loss: 0.0839 - accuracy: 0.9730 - val_loss: 0.0855 - val_accuracy: 0.9701\n",
      "Epoch 21/50\n",
      "687/687 [==============================] - 11s 15ms/step - loss: 0.0828 - accuracy: 0.9737 - val_loss: 0.0688 - val_accuracy: 0.9778\n",
      "Epoch 22/50\n",
      "687/687 [==============================] - 11s 15ms/step - loss: 0.0745 - accuracy: 0.9755 - val_loss: 0.0588 - val_accuracy: 0.9783\n",
      "Epoch 23/50\n",
      "687/687 [==============================] - 11s 16ms/step - loss: 0.0701 - accuracy: 0.9756 - val_loss: 0.0646 - val_accuracy: 0.9792\n",
      "Epoch 24/50\n",
      "687/687 [==============================] - 11s 16ms/step - loss: 0.0714 - accuracy: 0.9766 - val_loss: 0.0674 - val_accuracy: 0.9772\n",
      "Epoch 25/50\n",
      "687/687 [==============================] - 11s 16ms/step - loss: 0.0583 - accuracy: 0.9801 - val_loss: 0.0837 - val_accuracy: 0.9716\n",
      "Epoch 26/50\n",
      "687/687 [==============================] - 10s 15ms/step - loss: 0.0618 - accuracy: 0.9802 - val_loss: 0.0700 - val_accuracy: 0.9781\n",
      "Epoch 27/50\n",
      "687/687 [==============================] - 10s 15ms/step - loss: 0.0637 - accuracy: 0.9796 - val_loss: 0.0650 - val_accuracy: 0.9822\n",
      "Epoch 28/50\n",
      "687/687 [==============================] - 10s 15ms/step - loss: 0.0591 - accuracy: 0.9808 - val_loss: 0.0503 - val_accuracy: 0.9822\n",
      "Epoch 29/50\n",
      "687/687 [==============================] - 10s 15ms/step - loss: 0.0570 - accuracy: 0.9811 - val_loss: 0.0507 - val_accuracy: 0.9847\n",
      "Epoch 30/50\n",
      "687/687 [==============================] - 10s 15ms/step - loss: 0.0487 - accuracy: 0.9844 - val_loss: 0.0633 - val_accuracy: 0.9791\n",
      "Epoch 31/50\n",
      "687/687 [==============================] - 11s 15ms/step - loss: 0.0520 - accuracy: 0.9838 - val_loss: 0.0476 - val_accuracy: 0.9842\n",
      "Epoch 32/50\n",
      "687/687 [==============================] - 10s 15ms/step - loss: 0.0534 - accuracy: 0.9832 - val_loss: 0.0431 - val_accuracy: 0.9852\n",
      "Epoch 33/50\n",
      "687/687 [==============================] - 10s 15ms/step - loss: 0.0469 - accuracy: 0.9853 - val_loss: 0.0368 - val_accuracy: 0.9871\n",
      "Epoch 34/50\n",
      "687/687 [==============================] - 10s 15ms/step - loss: 0.0502 - accuracy: 0.9837 - val_loss: 0.0465 - val_accuracy: 0.9831\n",
      "Epoch 35/50\n",
      "687/687 [==============================] - 10s 15ms/step - loss: 0.0535 - accuracy: 0.9834 - val_loss: 0.0448 - val_accuracy: 0.9863\n",
      "Epoch 36/50\n",
      "687/687 [==============================] - 10s 15ms/step - loss: 0.0478 - accuracy: 0.9840 - val_loss: 0.0618 - val_accuracy: 0.9809\n",
      "Epoch 37/50\n",
      "687/687 [==============================] - 10s 15ms/step - loss: 0.0492 - accuracy: 0.9842 - val_loss: 0.0568 - val_accuracy: 0.9829\n",
      "Epoch 38/50\n",
      "687/687 [==============================] - 10s 15ms/step - loss: 0.0436 - accuracy: 0.9866 - val_loss: 0.0506 - val_accuracy: 0.9849\n",
      "Epoch 39/50\n",
      "687/687 [==============================] - 10s 15ms/step - loss: 0.0418 - accuracy: 0.9858 - val_loss: 0.0676 - val_accuracy: 0.9798\n",
      "Epoch 40/50\n",
      "687/687 [==============================] - 10s 15ms/step - loss: 0.0432 - accuracy: 0.9863 - val_loss: 0.0426 - val_accuracy: 0.9874\n",
      "Epoch 41/50\n",
      "687/687 [==============================] - 10s 15ms/step - loss: 0.0424 - accuracy: 0.9863 - val_loss: 0.0409 - val_accuracy: 0.9865\n",
      "Epoch 42/50\n",
      "687/687 [==============================] - 10s 14ms/step - loss: 0.0420 - accuracy: 0.9858 - val_loss: 0.0464 - val_accuracy: 0.9852\n",
      "Epoch 43/50\n",
      "687/687 [==============================] - 10s 14ms/step - loss: 0.0386 - accuracy: 0.9873 - val_loss: 0.0438 - val_accuracy: 0.9878\n",
      "Epoch 44/50\n",
      "687/687 [==============================] - 10s 15ms/step - loss: 0.0358 - accuracy: 0.9888 - val_loss: 0.1066 - val_accuracy: 0.9645\n",
      "Epoch 45/50\n",
      "687/687 [==============================] - 10s 15ms/step - loss: 0.0330 - accuracy: 0.9896 - val_loss: 0.0461 - val_accuracy: 0.9843\n",
      "Epoch 46/50\n",
      "687/687 [==============================] - 10s 14ms/step - loss: 0.0415 - accuracy: 0.9873 - val_loss: 0.0355 - val_accuracy: 0.9880\n",
      "Epoch 47/50\n",
      "687/687 [==============================] - 10s 14ms/step - loss: 0.0344 - accuracy: 0.9894 - val_loss: 0.0408 - val_accuracy: 0.9862\n",
      "Epoch 48/50\n",
      "687/687 [==============================] - 10s 14ms/step - loss: 0.0445 - accuracy: 0.9854 - val_loss: 0.0379 - val_accuracy: 0.9865\n",
      "Epoch 49/50\n",
      "687/687 [==============================] - 10s 14ms/step - loss: 0.0361 - accuracy: 0.9884 - val_loss: 0.0496 - val_accuracy: 0.9823\n",
      "Epoch 50/50\n",
      "687/687 [==============================] - 10s 14ms/step - loss: 0.0306 - accuracy: 0.9899 - val_loss: 0.0223 - val_accuracy: 0.9929\n"
     ]
    }
   ],
   "source": [
    "history=model.fit(traindata_generator,epochs=50,validation_data=validationdata_generator)"
   ]
  },
  {
   "cell_type": "code",
   "execution_count": 34,
   "metadata": {},
   "outputs": [
    {
     "data": {
      "image/png": "[encoded data removed]",
      "text/plain": [
       "<Figure size 640x480 with 1 Axes>"
      ]
     },
     "metadata": {},
     "output_type": "display_data"
    },
    {
     "data": {
      "image/png": "[encoded data removed]",
      "text/plain": [
       "<Figure size 640x480 with 1 Axes>"
      ]
     },
     "metadata": {},
     "output_type": "display_data"
    }
   ],
   "source": [
    "acc = history.history['accuracy']\n",
    "val_acc = history.history['val_accuracy']\n",
    "loss = history.history['loss']\n",
    "val_loss = history.history['val_loss']\n",
    "\n",
    "epochs = range(len(acc))\n",
    "\n",
    "pyplot.plot(epochs, acc, 'r', label='Training accuracy')\n",
    "pyplot.plot(epochs, val_acc, 'b', label='Validation accuracy')\n",
    "pyplot.title('Training and validation accuracy')\n",
    "pyplot.legend()\n",
    "pyplot.figure()\n",
    "\n",
    "pyplot.plot(epochs, loss, 'r', label='Training Loss')\n",
    "pyplot.plot(epochs, val_loss, 'b', label='Validation Loss')\n",
    "pyplot.title('Training and validation loss')\n",
    "pyplot.legend()\n",
    "\n",
    "pyplot.show()"
   ]
  },
  {
   "cell_type": "code",
   "execution_count": 38,
   "metadata": {},
   "outputs": [
    {
     "name": "stdout",
     "output_type": "stream",
     "text": [
      "225/225 [==============================] - 1s 6ms/step - loss: 0.0079 - accuracy: 0.9969\n",
      "test accuracy: 99.69325065612793\n"
     ]
    }
   ],
   "source": [
    "loss,accuracy = model.evaluate(testdata_generator)\n",
    "print(\"test accuracy: \"+ str(accuracy*100))"
   ]
  },
  {
   "cell_type": "code",
   "execution_count": null,
   "metadata": {},
   "outputs": [],
   "source": []
  }
 ],
 "metadata": {
  "kernelspec": {
   "display_name": "Python 3 (ipykernel)",
   "language": "python",
   "name": "python3"
  },
  "language_info": {
   "codemirror_mode": {
    "name": "ipython",
    "version": 3
   },
   "file_extension": ".py",
   "mimetype": "text/x-python",
   "name": "python",
   "nbconvert_exporter": "python",
   "pygments_lexer": "ipython3",
   "version": "3.10.10"
  }
 },
 "nbformat": 4,
 "nbformat_minor": 4
}
